{
 "cells": [
  {
   "cell_type": "markdown",
   "metadata": {},
   "source": [
    "# Exchanging Solutions Between Two Nonmatching Spherical Surfaces"
   ]
  },
  {
   "cell_type": "code",
   "execution_count": 1,
   "metadata": {},
   "outputs": [],
   "source": [
    "import numpy as np\n",
    "from pydtk2 import *\n",
    "from pymoab.core import Core\n",
    "from pymoab.types import MBQUAD, MB_TYPE_DOUBLE, MB_TAG_DENSE, MBVERTEX\n",
    "from mpi4py import MPI"
   ]
  },
  {
   "cell_type": "code",
   "execution_count": 2,
   "metadata": {},
   "outputs": [],
   "source": [
    "choose_level = 4\n",
    "assert choose_level >= 0 and choose_level <= 4 and isinstance(choose_level, int)\n",
    "\n",
    "# the next line should be modified for maximum iterations\n",
    "itmax = 200\n",
    "# the next line indicates the Radial Basis Function Radius,\n",
    "# if this value is too small, then the local problems may be singular,\n",
    "# however, if it's too large, then it may take 'forever' to generate the operators\n",
    "radius = 0.5\n",
    "\n",
    "bo = WENLAND2\n",
    "\n",
    "\n",
    "levels = []\n",
    "mesh_root = 'meshes/untri/'\n",
    "levels.append(\n",
    "    (mesh_root+'CubSph1_0_0_0_1_41_55_63_GaussHillSlotCylnd.vtk',\n",
    "     mesh_root+'sphere1.vtk')\n",
    ")\n",
    "levels.append(\n",
    "    (mesh_root+'CubSph2_0_0_0_1_58_78_89_GaussHillSlotCylnd.vtk',\n",
    "     mesh_root+'sphere2.vtk')\n",
    ")\n",
    "levels.append(\n",
    "    (mesh_root+'CubSph3_0_0_0_1_82_110_126_GaussHillSlotCylnd.vtk',\n",
    "     mesh_root+'sphere4.vtk')\n",
    ")\n",
    "levels.append(\n",
    "    (mesh_root+'CubSph4_0_0_0_1_116_156_178_GaussHillSlotCylnd.vtk',\n",
    "     mesh_root+'sphere8.vtk')\n",
    ")"
   ]
  },
  {
   "cell_type": "code",
   "execution_count": 3,
   "metadata": {},
   "outputs": [],
   "source": [
    "if not choose_level:\n",
    "    coarse_file = 'meshes/CubSph2_0_0_0_41_55_63_GaussHillSlotCylnd.vtk'\n",
    "    fine_file = 'meshes/CubSph2_0_0_0_73_81_101_GaussHillSlotCylnd.vtk'\n",
    "else:\n",
    "    coarse_file = levels[choose_level-1][1]\n",
    "    fine_file = levels[choose_level-1][0]"
   ]
  },
  {
   "cell_type": "code",
   "execution_count": 4,
   "metadata": {},
   "outputs": [],
   "source": [
    "\n",
    "# the next line should be modified for output file names\n",
    "output_common = 'results/DTKresultsLevel%i' % choose_level\n",
    "output_fine, output_coarse = output_common + '_fine', output_common + '_coarse'"
   ]
  },
  {
   "cell_type": "code",
   "execution_count": 5,
   "metadata": {},
   "outputs": [],
   "source": [
    "# MOAB stuffs\n",
    "mdb_fine, mdb_coarse = Core(), Core()\n",
    "\n",
    "# load files, this will store point_data in tags\n",
    "mdb_fine.load_file(fine_file)\n",
    "mdb_coarse.load_file(coarse_file)\n",
    "\n",
    "# the point data in vtk files are tagged with 'scalars'\n",
    "field_fine = field_coarse = 'scalars'\n",
    "if choose_level:\n",
    "    verts = mdb_coarse.get_entities_by_type(0, MBVERTEX)\n",
    "    ctag = mdb_coarse.tag_get_handle(\n",
    "        field_coarse,\n",
    "        size=1,\n",
    "        tag_type=MB_TYPE_DOUBLE,\n",
    "        storage_type=MB_TAG_DENSE,\n",
    "        create_if_missing=True)\n",
    "    dummy = np.zeros(verts.size(), dtype=np.float64)\n",
    "    mdb_coarse.tag_set_data(ctag, verts, dummy)"
   ]
  },
  {
   "cell_type": "code",
   "execution_count": 6,
   "metadata": {},
   "outputs": [],
   "source": [
    "# Now construct two PyDTK2 MOAB managers\n",
    "fine_manager = DTK2MoabManager(mdb_fine)\n",
    "coarse_manager = DTK2MoabManager(mdb_coarse)"
   ]
  },
  {
   "cell_type": "code",
   "execution_count": null,
   "metadata": {},
   "outputs": [],
   "source": [
    "# now we push the tag strings into the managers\n",
    "fine_manager.register_tag(field_fine)\n",
    "coarse_manager.register_tag(field_coarse)"
   ]
  },
  {
   "cell_type": "code",
   "execution_count": null,
   "metadata": {},
   "outputs": [],
   "source": [
    "# next step is to construct the DTK2 MOAB mappers\n",
    "fine2coarse = DTK2Mapper(\n",
    "    source=fine_manager,\n",
    "    target=coarse_manager,\n",
    "    r=radius,\n",
    "    basis_order=bo\n",
    ")\n",
    "coarse2fine = DTK2Mapper(\n",
    "    source=coarse_manager,\n",
    "    target=fine_manager,\n",
    "    r=radius,\n",
    "    basis_order=bo\n",
    ")\n",
    "\n",
    "# now register coupled flags\n",
    "fine2coarse.register_coupled_tags(field_fine, field_coarse)\n",
    "coarse2fine.register_coupled_tags(field_coarse, field_fine)"
   ]
  },
  {
   "cell_type": "code",
   "execution_count": null,
   "metadata": {},
   "outputs": [],
   "source": [
    "# the transfer loop\n",
    "for it in range(itmax):\n",
    "    # transfer from fine to coarse\n",
    "    fine2coarse.apply(field_fine, field_coarse)\n",
    "    # transfer from coarse to fine\n",
    "    coarse2fine.apply(field_coarse, field_fine)\n",
    "    \n",
    "     # dump to file\n",
    "    mdb_coarse.write_file(output_coarse + '%i.vtk' % it)\n",
    "    mdb_fine.write_file(output_fine + '%i.vtk' % it)"
   ]
  }
 ],
 "metadata": {
  "kernelspec": {
   "display_name": "Python 3",
   "language": "python",
   "name": "python3"
  },
  "language_info": {
   "codemirror_mode": {
    "name": "ipython",
    "version": 3
   },
   "file_extension": ".py",
   "mimetype": "text/x-python",
   "name": "python",
   "nbconvert_exporter": "python",
   "pygments_lexer": "ipython3",
   "version": "3.6.3"
  },
  "latex_envs": {
   "LaTeX_envs_menu_present": true,
   "autoclose": false,
   "autocomplete": true,
   "bibliofile": "biblio.bib",
   "cite_by": "apalike",
   "current_citInitial": 1,
   "eqLabelWithNumbers": true,
   "eqNumInitial": 1,
   "hotkeys": {
    "equation": "Ctrl-E",
    "itemize": "Ctrl-I"
   },
   "labels_anchors": false,
   "latex_user_defs": false,
   "report_style_numbering": false,
   "user_envs_cfg": false
  }
 },
 "nbformat": 4,
 "nbformat_minor": 2
}
