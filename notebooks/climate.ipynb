{
 "cells": [
  {
   "cell_type": "markdown",
   "metadata": {},
   "source": [
    "# Exchanging Solutions Between Two Nonmatching Spherical Surfaces"
   ]
  },
  {
   "cell_type": "code",
   "execution_count": null,
   "metadata": {},
   "outputs": [],
   "source": [
    "import numpy as np\n",
    "from pydtk2 import *\n",
    "from pymoab.core import Core\n",
    "from pymoab.types import MBQUAD, MB_TYPE_DOUBLE, MB_TAG_DENSE\n",
    "from mpi4py import MPI"
   ]
  },
  {
   "cell_type": "code",
   "execution_count": null,
   "metadata": {},
   "outputs": [],
   "source": [
    "coarse_file = 'meshes/CubSph2_0_0_0_41_55_63_GaussHillSlotCylnd.vtk'\n",
    "fine_file = 'meshes/CubSph2_0_0_0_73_81_101_GaussHillSlotCylnd.vtk'"
   ]
  },
  {
   "cell_type": "code",
   "execution_count": null,
   "metadata": {},
   "outputs": [],
   "source": [
    "# the next line should be modified for maximum iterations\n",
    "itmax = 30\n",
    "# the next line should be modified for output file names\n",
    "output_common = 'results/DTKresults'\n",
    "output_fine, output_coarse = output_common + '_fine', output_common + '_coarse'\n",
    "# the next line indicates the Radial Basis Function Radius,\n",
    "# if this value is too small, then the local problems may be singular,\n",
    "# however, if it's too large, then it may take 'forever' to generate the operators\n",
    "radius = 0.2"
   ]
  },
  {
   "cell_type": "code",
   "execution_count": null,
   "metadata": {},
   "outputs": [],
   "source": [
    "# MOAB stuffs\n",
    "mdb_fine, mdb_coarse = Core(), Core()\n",
    "\n",
    "# load files, this will store point_data in tags\n",
    "mdb_fine.load_file(fine_file)\n",
    "mdb_coarse.load_file(coarse_file)\n",
    "\n",
    "# the point data in vtk files are tagged with 'scalars'\n",
    "field_fine = field_coarse = 'scalars'"
   ]
  },
  {
   "cell_type": "code",
   "execution_count": null,
   "metadata": {},
   "outputs": [],
   "source": [
    "# Now construct two PyDTK2 MOAB managers\n",
    "fine_manager = DTK2MoabManager(mdb_fine)\n",
    "coarse_manager = DTK2MoabManager(mdb_coarse)"
   ]
  },
  {
   "cell_type": "code",
   "execution_count": null,
   "metadata": {},
   "outputs": [],
   "source": [
    "# now we push the tag strings into the managers\n",
    "fine_manager.register_tag(field_fine)\n",
    "coarse_manager.register_tag(field_coarse)"
   ]
  },
  {
   "cell_type": "code",
   "execution_count": null,
   "metadata": {},
   "outputs": [],
   "source": [
    "# next step is to construct the DTK2 MOAB mappers\n",
    "fine2coarse = DTK2Mapper(source=fine_manager, target=coarse_manager, r=radius)\n",
    "coarse2fine = DTK2Mapper(source=coarse_manager, target=fine_manager, r=radius)\n",
    "\n",
    "# now register coupled flags\n",
    "fine2coarse.register_coupled_tags(field_fine, field_coarse)\n",
    "coarse2fine.register_coupled_tags(field_coarse, field_fine)"
   ]
  },
  {
   "cell_type": "code",
   "execution_count": null,
   "metadata": {},
   "outputs": [],
   "source": [
    "# the transfer loop\n",
    "for it in range(itmax):\n",
    "    # dump to file\n",
    "    mdb_coarse.write_file(output_coarse + '%i.vtk' % it)\n",
    "    # transfer from fine to coarse\n",
    "    fine2coarse.apply(field_fine, field_coarse)\n",
    "    \n",
    "    # dump to file\n",
    "    mdb_fine.write_file(output_fine + '%i.vtk' % it)\n",
    "    # transfer from coarse to fine\n",
    "    coarse2fine.apply(field_coarse, field_fine)"
   ]
  },
  {
   "cell_type": "code",
   "execution_count": null,
   "metadata": {},
   "outputs": [],
   "source": [
    "# write the final solutions\n",
    "mdb_coarse.write_file(output_coarse + '%i.vtk' % itmax)\n",
    "mdb_fine.write_file(output_fine + '%i.vtk' % itmax)"
   ]
  }
 ],
 "metadata": {
  "kernelspec": {
   "display_name": "Python 3",
   "language": "python",
   "name": "python3"
  },
  "language_info": {
   "codemirror_mode": {
    "name": "ipython",
    "version": 3
   },
   "file_extension": ".py",
   "mimetype": "text/x-python",
   "name": "python",
   "nbconvert_exporter": "python",
   "pygments_lexer": "ipython3",
   "version": "3.6.3"
  },
  "latex_envs": {
   "LaTeX_envs_menu_present": true,
   "autoclose": false,
   "autocomplete": true,
   "bibliofile": "biblio.bib",
   "cite_by": "apalike",
   "current_citInitial": 1,
   "eqLabelWithNumbers": true,
   "eqNumInitial": 1,
   "hotkeys": {
    "equation": "Ctrl-E",
    "itemize": "Ctrl-I"
   },
   "labels_anchors": false,
   "latex_user_defs": false,
   "report_style_numbering": false,
   "user_envs_cfg": false
  }
 },
 "nbformat": 4,
 "nbformat_minor": 2
}
