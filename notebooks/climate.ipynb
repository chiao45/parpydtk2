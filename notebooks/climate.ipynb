{
 "cells": [
  {
   "cell_type": "code",
   "execution_count": 1,
   "metadata": {},
   "outputs": [],
   "source": [
    "import numpy as np\n",
    "from pydtk2 import *\n",
    "from pymoab.core import Core\n",
    "from pymoab.types import MBQUAD, MB_TYPE_DOUBLE, MB_TAG_DENSE\n",
    "from mpi4py import MPI"
   ]
  },
  {
   "cell_type": "code",
   "execution_count": 2,
   "metadata": {},
   "outputs": [],
   "source": [
    "# use our modified meshio\n",
    "from meshio_modified.vtk_io import read\n",
    "from meshio_modified.vtu_io import write"
   ]
  },
  {
   "cell_type": "code",
   "execution_count": 3,
   "metadata": {},
   "outputs": [],
   "source": [
    "coarse_file = 'meshes/CubSph2_0_0_0_41_55_63_GaussHillSlotCylnd.vtk'\n",
    "fine_file = 'meshes/CubSph2_0_0_0_73_81_101_GaussHillSlotCylnd.vtk'"
   ]
  },
  {
   "cell_type": "code",
   "execution_count": 4,
   "metadata": {},
   "outputs": [],
   "source": [
    "# the next line should be modified for maximum iterations\n",
    "itmax = 20\n",
    "# the next line should be modified for output file names\n",
    "output_common = 'results/DTKresults'\n",
    "output_fine, output_coarse = output_common + '_fine', output_common + '_coarse'\n",
    "# the next line indicates the Radial Basis Function Radius\n",
    "radius = 0.3"
   ]
  },
  {
   "cell_type": "code",
   "execution_count": 5,
   "metadata": {},
   "outputs": [],
   "source": [
    "# read data in\n",
    "coors_fine, elem_fine, point_data_fine, _, _ = read(fine_file)\n",
    "coors_coarse, elem_coarse, point_data_coarse, _, _ = read(coarse_file)"
   ]
  },
  {
   "cell_type": "code",
   "execution_count": 6,
   "metadata": {},
   "outputs": [],
   "source": [
    "# elem_? and point_data_? stored in dictionaries, we make references to\n",
    "# the values for them\n",
    "conn_fine = elem_fine['quad']\n",
    "conn_coarse = elem_coarse['quad']\n",
    "field_values_fine = point_data_fine['scalars']\n",
    "field_values_coarse = point_data_coarse['scalars']"
   ]
  },
  {
   "cell_type": "code",
   "execution_count": 7,
   "metadata": {},
   "outputs": [],
   "source": [
    "# MOAB stuffs\n",
    "\n",
    "mdb_fine, mdb_coarse = Core(), Core()"
   ]
  },
  {
   "cell_type": "code",
   "execution_count": 8,
   "metadata": {},
   "outputs": [],
   "source": [
    "# Read in vertices, get the return Range instances, for later use\n",
    "rng_fine = mdb_fine.create_vertices(coors_fine)\n",
    "rng_coarse = mdb_coarse.create_vertices(coors_coarse)"
   ]
  },
  {
   "cell_type": "code",
   "execution_count": 9,
   "metadata": {},
   "outputs": [],
   "source": [
    "# NOTE that pyMOAB takes 1 based connectivity table, and dtype must be uint64!\n",
    "\n",
    "conn_fine_moab = np.array(conn_fine, dtype=np.uint64) + rng_fine[0]\n",
    "conn_coarse_moab = np.array(conn_coarse, dtype=np.uint64) + rng_coarse[0]"
   ]
  },
  {
   "cell_type": "code",
   "execution_count": 10,
   "metadata": {},
   "outputs": [
    {
     "data": {
      "text/plain": []
     },
     "execution_count": 10,
     "metadata": {},
     "output_type": "execute_result"
    }
   ],
   "source": [
    "# create Q1 elements\n",
    "rng_quad_fine = mdb_fine.create_elements(MBQUAD, conn_fine_moab)\n",
    "rng_quad_coarse = mdb_coarse.create_elements(MBQUAD, conn_coarse_moab)\n",
    "# create adj for the elements associated to vertices\n",
    "mdb_fine.get_adjacencies(rng_quad_fine, to_dim=0, create_if_missing=True)\n",
    "mdb_fine.get_adjacencies(rng_quad_coarse, to_dim=0, create_if_missing=True)"
   ]
  },
  {
   "cell_type": "code",
   "execution_count": 11,
   "metadata": {},
   "outputs": [],
   "source": [
    "# now we create fields\n",
    "field_fine, field_coarse = 'temperatureFine', 'temperatureCoarse'\n",
    "# create tags\n",
    "tag_fine = mdb_fine.tag_get_handle(\n",
    "    field_fine,\n",
    "    size=1,\n",
    "    tag_type=MB_TYPE_DOUBLE,\n",
    "    storage_type=MB_TAG_DENSE,\n",
    "    create_if_missing=True)\n",
    "tag_coarse = mdb_coarse.tag_get_handle(\n",
    "    field_coarse,\n",
    "    size=1,\n",
    "    tag_type=MB_TYPE_DOUBLE,\n",
    "    storage_type=MB_TAG_DENSE,\n",
    "    create_if_missing=True)"
   ]
  },
  {
   "cell_type": "code",
   "execution_count": 12,
   "metadata": {},
   "outputs": [],
   "source": [
    "# put data values into meshdbs\n",
    "mdb_fine.tag_set_data(tag_fine, rng_fine, field_values_fine)\n",
    "mdb_coarse.tag_set_data(tag_coarse, rng_coarse, field_values_coarse)"
   ]
  },
  {
   "cell_type": "code",
   "execution_count": 13,
   "metadata": {},
   "outputs": [],
   "source": [
    "# Now construct two PyDTK2 MOAB managers\n",
    "fine_manager = DTK2MoabManager(mdb_fine)\n",
    "coarse_manager = DTK2MoabManager(mdb_coarse)"
   ]
  },
  {
   "cell_type": "code",
   "execution_count": 14,
   "metadata": {},
   "outputs": [],
   "source": [
    "# now we push the tag strings into the managers\n",
    "fine_manager.register_tag(field_fine)\n",
    "coarse_manager.register_tag(field_coarse)"
   ]
  },
  {
   "cell_type": "code",
   "execution_count": 15,
   "metadata": {},
   "outputs": [],
   "source": [
    "# next step is to construct the DTK2 MOAB mappers\n",
    "fine2coarse = DTK2Mapper(source=fine_manager, target=coarse_manager, r=radius)\n",
    "coarse2fine = DTK2Mapper(source=coarse_manager, target=fine_manager, r=radius)\n",
    "\n",
    "# now register coupled flags\n",
    "fine2coarse.register_coupled_tags(field_fine, field_coarse)\n",
    "coarse2fine.register_coupled_tags(field_coarse, field_fine)"
   ]
  },
  {
   "cell_type": "code",
   "execution_count": 17,
   "metadata": {},
   "outputs": [
    {
     "name": "stderr",
     "output_type": "stream",
     "text": [
      "WARNING:root:VTU ASCII files are only meant for debugging.\n",
      "WARNING:root:VTU ASCII files are only meant for debugging.\n",
      "WARNING:root:VTU ASCII files are only meant for debugging.\n",
      "WARNING:root:VTU ASCII files are only meant for debugging.\n",
      "WARNING:root:VTU ASCII files are only meant for debugging.\n",
      "WARNING:root:VTU ASCII files are only meant for debugging.\n",
      "WARNING:root:VTU ASCII files are only meant for debugging.\n",
      "WARNING:root:VTU ASCII files are only meant for debugging.\n",
      "WARNING:root:VTU ASCII files are only meant for debugging.\n",
      "WARNING:root:VTU ASCII files are only meant for debugging.\n",
      "WARNING:root:VTU ASCII files are only meant for debugging.\n",
      "WARNING:root:VTU ASCII files are only meant for debugging.\n",
      "WARNING:root:VTU ASCII files are only meant for debugging.\n",
      "WARNING:root:VTU ASCII files are only meant for debugging.\n",
      "WARNING:root:VTU ASCII files are only meant for debugging.\n",
      "WARNING:root:VTU ASCII files are only meant for debugging.\n",
      "WARNING:root:VTU ASCII files are only meant for debugging.\n",
      "WARNING:root:VTU ASCII files are only meant for debugging.\n",
      "WARNING:root:VTU ASCII files are only meant for debugging.\n",
      "WARNING:root:VTU ASCII files are only meant for debugging.\n",
      "WARNING:root:VTU ASCII files are only meant for debugging.\n",
      "WARNING:root:VTU ASCII files are only meant for debugging.\n",
      "WARNING:root:VTU ASCII files are only meant for debugging.\n",
      "WARNING:root:VTU ASCII files are only meant for debugging.\n",
      "WARNING:root:VTU ASCII files are only meant for debugging.\n",
      "WARNING:root:VTU ASCII files are only meant for debugging.\n",
      "WARNING:root:VTU ASCII files are only meant for debugging.\n",
      "WARNING:root:VTU ASCII files are only meant for debugging.\n",
      "WARNING:root:VTU ASCII files are only meant for debugging.\n",
      "WARNING:root:VTU ASCII files are only meant for debugging.\n",
      "WARNING:root:VTU ASCII files are only meant for debugging.\n",
      "WARNING:root:VTU ASCII files are only meant for debugging.\n",
      "WARNING:root:VTU ASCII files are only meant for debugging.\n",
      "WARNING:root:VTU ASCII files are only meant for debugging.\n",
      "WARNING:root:VTU ASCII files are only meant for debugging.\n",
      "WARNING:root:VTU ASCII files are only meant for debugging.\n",
      "WARNING:root:VTU ASCII files are only meant for debugging.\n",
      "WARNING:root:VTU ASCII files are only meant for debugging.\n",
      "WARNING:root:VTU ASCII files are only meant for debugging.\n",
      "WARNING:root:VTU ASCII files are only meant for debugging.\n"
     ]
    }
   ],
   "source": [
    "buffer1 = np.empty(field_values_fine.size, dtype=np.float64)\n",
    "buffer2 = np.empty(field_values_coarse.size, dtype=np.float64)\n",
    "for it in range(itmax):\n",
    "    # retrieve the values\n",
    "    buffer2[:] = mdb_coarse.tag_get_data(tag_coarse, rng_coarse).reshape(-1)\n",
    "    # dump to file\n",
    "    write(output_coarse + '%i.vtu' % it,\n",
    "          coors_coarse,\n",
    "          elem_coarse,\n",
    "          write_binary=False,\n",
    "          point_data={field_coarse: buffer2})\n",
    "    # transfer from fine to coarse\n",
    "    fine2coarse.apply(field_fine, field_coarse)\n",
    "    \n",
    "    # retrive the values\n",
    "    buffer1[:] = mdb_fine.tag_get_data(tag_fine, rng_fine).reshape(-1)\n",
    "    # dump to file\n",
    "    write(output_fine + '%i.vtu' % it,\n",
    "          coors_fine,\n",
    "          elem_fine,\n",
    "          write_binary=False,\n",
    "          point_data={field_fine: buffer1})\n",
    "    # transfer from coarse to fine\n",
    "    coarse2fine.apply(field_coarse, field_fine)"
   ]
  },
  {
   "cell_type": "code",
   "execution_count": 18,
   "metadata": {},
   "outputs": [
    {
     "name": "stderr",
     "output_type": "stream",
     "text": [
      "WARNING:root:VTU ASCII files are only meant for debugging.\n",
      "WARNING:root:VTU ASCII files are only meant for debugging.\n"
     ]
    }
   ],
   "source": [
    "# write the final solutions\n",
    "# retrieve the values\n",
    "buffer2[:] = mdb_coarse.tag_get_data(tag_coarse, rng_coarse).reshape(-1)\n",
    "    # dump to file\n",
    "write(output_coarse + '%i.vtu' % itmax,\n",
    "      coors_coarse,\n",
    "      elem_coarse,\n",
    "      write_binary=False,\n",
    "      point_data={field_coarse: buffer2})\n",
    "    \n",
    "# retrive the values\n",
    "buffer1[:] = mdb_fine.tag_get_data(tag_fine, rng_fine).reshape(-1)\n",
    "# dump to file\n",
    "write(output_fine + '%i.vtu' % itmax,\n",
    "      coors_fine,\n",
    "      elem_fine,\n",
    "      write_binary=False,\n",
    "      point_data={field_fine: buffer1})"
   ]
  }
 ],
 "metadata": {
  "kernelspec": {
   "display_name": "Python 3",
   "language": "python",
   "name": "python3"
  },
  "language_info": {
   "codemirror_mode": {
    "name": "ipython",
    "version": 3
   },
   "file_extension": ".py",
   "mimetype": "text/x-python",
   "name": "python",
   "nbconvert_exporter": "python",
   "pygments_lexer": "ipython3",
   "version": "3.6.3"
  },
  "latex_envs": {
   "LaTeX_envs_menu_present": true,
   "autoclose": false,
   "autocomplete": true,
   "bibliofile": "biblio.bib",
   "cite_by": "apalike",
   "current_citInitial": 1,
   "eqLabelWithNumbers": true,
   "eqNumInitial": 1,
   "hotkeys": {
    "equation": "Ctrl-E",
    "itemize": "Ctrl-I"
   },
   "labels_anchors": false,
   "latex_user_defs": false,
   "report_style_numbering": false,
   "user_envs_cfg": false
  }
 },
 "nbformat": 4,
 "nbformat_minor": 2
}
